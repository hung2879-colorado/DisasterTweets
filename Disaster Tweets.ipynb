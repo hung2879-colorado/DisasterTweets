{
 "cells": [
  {
   "cell_type": "markdown",
   "id": "ef57954c",
   "metadata": {},
   "source": [
    "# Introduction\n",
    "Twitter has become an important communication channel in times of emergency. The ubiquitousness of smartphones enables people to announce an emergency they’re observing in real-time. Because of this, more agencies are interested in programatically monitoring Twitter (i.e. disaster relief organizations and news agencies). But, it’s not always clear whether a person’s words are actually announcing a disaster. \n",
    "\n",
    "In this competition, the challenge is to build a machine learning model that predicts which Tweets are about real disasters and which one’s aren’t. I have access to a dataset of 10,000 tweets that were hand classified.\n",
    "\n",
    "This is a competition on Kaggle at the following link https://www.kaggle.com/competitions/nlp-getting-started/overview. The submissions are evaluated using F1 between the predicted and expected answers."
   ]
  },
  {
   "cell_type": "markdown",
   "id": "3f193398",
   "metadata": {},
   "source": [
    "## Description of dataset\n",
    "There are 3 files in the data folder: train.csv, test.csv and sample_submission.csv. Each sample in the train and test set has the following information: the text of a tweet, a keyword from that tweet (although this may be blank!), the location the tweet was sent from (may also be blank). Columns contain: id - a unique identifier for each tweet, text - the text of the tweet, location - the location the tweet was sent from (may be blank), keyword - a particular keyword from the tweet (may be blank), target - in train.csv only, this denotes whether a tweet is about a real disaster (1) or not (0).\n",
    "\n",
    "You can download the dataset from Kaggle at following link https://www.kaggle.com/competitions/nlp-getting-started/data."
   ]
  },
  {
   "cell_type": "markdown",
   "id": "6fd5249c",
   "metadata": {},
   "source": [
    "## Libraries Import"
   ]
  },
  {
   "cell_type": "code",
   "execution_count": 1,
   "id": "ddcf24f9",
   "metadata": {},
   "outputs": [
    {
     "name": "stderr",
     "output_type": "stream",
     "text": [
      "[nltk_data] Downloading package stopwords to\n",
      "[nltk_data]     C:\\Users\\Admin\\AppData\\Roaming\\nltk_data...\n",
      "[nltk_data]   Package stopwords is already up-to-date!\n"
     ]
    }
   ],
   "source": [
    "import tensorflow as tf\n",
    "import tensorflow_datasets as tfds\n",
    "import re\n",
    "import numpy as np\n",
    "import pandas as pd\n",
    "import matplotlib.pyplot as plt\n",
    "import seaborn as sns\n",
    "import sklearn\n",
    "import glob\n",
    "import nltk\n",
    "import warnings\n",
    "from tensorflow.keras.models import Sequential, Model\n",
    "from tensorflow.keras.layers import SimpleRNN, LSTM, Bidirectional, Dense, Dropout, BatchNormalization, Activation, Embedding \n",
    "from tensorflow.keras.callbacks import EarlyStopping\n",
    "from tensorflow.keras.preprocessing.text import Tokenizer\n",
    "from tensorflow.keras.preprocessing.sequence import pad_sequences\n",
    "from collections import defaultdict, Counter\n",
    "nltk.download('stopwords')\n",
    "from nltk.corpus import stopwords"
   ]
  },
  {
   "cell_type": "markdown",
   "id": "10359681",
   "metadata": {},
   "source": [
    "# Exploratory Data Analysis and Data Cleaning (EDA)"
   ]
  },
  {
   "cell_type": "code",
   "execution_count": 2,
   "id": "6b0da48c",
   "metadata": {},
   "outputs": [
    {
     "name": "stdout",
     "output_type": "stream",
     "text": [
      "<class 'pandas.core.frame.DataFrame'>\n",
      "RangeIndex: 7613 entries, 0 to 7612\n",
      "Data columns (total 5 columns):\n",
      " #   Column    Non-Null Count  Dtype \n",
      "---  ------    --------------  ----- \n",
      " 0   id        7613 non-null   int64 \n",
      " 1   keyword   7552 non-null   object\n",
      " 2   location  5080 non-null   object\n",
      " 3   text      7613 non-null   object\n",
      " 4   target    7613 non-null   int64 \n",
      "dtypes: int64(2), object(3)\n",
      "memory usage: 297.5+ KB\n"
     ]
    }
   ],
   "source": [
    "df_train = pd.read_csv('data/DisasterTweets/train.csv', encoding ='utf-8')\n",
    "df_train.info()"
   ]
  },
  {
   "cell_type": "code",
   "execution_count": 3,
   "id": "b4914299",
   "metadata": {},
   "outputs": [
    {
     "data": {
      "text/plain": [
       "(7613, 5)"
      ]
     },
     "execution_count": 3,
     "metadata": {},
     "output_type": "execute_result"
    }
   ],
   "source": [
    "df_train.shape"
   ]
  },
  {
   "cell_type": "markdown",
   "id": "a39a8713",
   "metadata": {},
   "source": [
    "There are about 7613 entries with 5 columns. However, some columns contain less than 7613 entries (blank entries)."
   ]
  },
  {
   "cell_type": "code",
   "execution_count": 4,
   "id": "a64c78b3",
   "metadata": {},
   "outputs": [
    {
     "data": {
      "text/html": [
       "<div>\n",
       "<style scoped>\n",
       "    .dataframe tbody tr th:only-of-type {\n",
       "        vertical-align: middle;\n",
       "    }\n",
       "\n",
       "    .dataframe tbody tr th {\n",
       "        vertical-align: top;\n",
       "    }\n",
       "\n",
       "    .dataframe thead th {\n",
       "        text-align: right;\n",
       "    }\n",
       "</style>\n",
       "<table border=\"1\" class=\"dataframe\">\n",
       "  <thead>\n",
       "    <tr style=\"text-align: right;\">\n",
       "      <th></th>\n",
       "      <th>id</th>\n",
       "      <th>keyword</th>\n",
       "      <th>location</th>\n",
       "      <th>text</th>\n",
       "      <th>target</th>\n",
       "    </tr>\n",
       "  </thead>\n",
       "  <tbody>\n",
       "    <tr>\n",
       "      <th>0</th>\n",
       "      <td>1</td>\n",
       "      <td>NaN</td>\n",
       "      <td>NaN</td>\n",
       "      <td>Our Deeds are the Reason of this #earthquake M...</td>\n",
       "      <td>1</td>\n",
       "    </tr>\n",
       "    <tr>\n",
       "      <th>1</th>\n",
       "      <td>4</td>\n",
       "      <td>NaN</td>\n",
       "      <td>NaN</td>\n",
       "      <td>Forest fire near La Ronge Sask. Canada</td>\n",
       "      <td>1</td>\n",
       "    </tr>\n",
       "    <tr>\n",
       "      <th>2</th>\n",
       "      <td>5</td>\n",
       "      <td>NaN</td>\n",
       "      <td>NaN</td>\n",
       "      <td>All residents asked to 'shelter in place' are ...</td>\n",
       "      <td>1</td>\n",
       "    </tr>\n",
       "    <tr>\n",
       "      <th>3</th>\n",
       "      <td>6</td>\n",
       "      <td>NaN</td>\n",
       "      <td>NaN</td>\n",
       "      <td>13,000 people receive #wildfires evacuation or...</td>\n",
       "      <td>1</td>\n",
       "    </tr>\n",
       "    <tr>\n",
       "      <th>4</th>\n",
       "      <td>7</td>\n",
       "      <td>NaN</td>\n",
       "      <td>NaN</td>\n",
       "      <td>Just got sent this photo from Ruby #Alaska as ...</td>\n",
       "      <td>1</td>\n",
       "    </tr>\n",
       "  </tbody>\n",
       "</table>\n",
       "</div>"
      ],
      "text/plain": [
       "   id keyword location                                               text  \\\n",
       "0   1     NaN      NaN  Our Deeds are the Reason of this #earthquake M...   \n",
       "1   4     NaN      NaN             Forest fire near La Ronge Sask. Canada   \n",
       "2   5     NaN      NaN  All residents asked to 'shelter in place' are ...   \n",
       "3   6     NaN      NaN  13,000 people receive #wildfires evacuation or...   \n",
       "4   7     NaN      NaN  Just got sent this photo from Ruby #Alaska as ...   \n",
       "\n",
       "   target  \n",
       "0       1  \n",
       "1       1  \n",
       "2       1  \n",
       "3       1  \n",
       "4       1  "
      ]
     },
     "execution_count": 4,
     "metadata": {},
     "output_type": "execute_result"
    }
   ],
   "source": [
    "df_train.head()"
   ]
  },
  {
   "cell_type": "markdown",
   "id": "66d18c2c",
   "metadata": {},
   "source": [
    "The 'keyword' and 'location' columns contain some NaN values. The target column contains the label for the text as either positive 1 (disaster) or negative 0(no disaster)."
   ]
  },
  {
   "cell_type": "code",
   "execution_count": 5,
   "id": "408c6519",
   "metadata": {},
   "outputs": [
    {
     "data": {
      "text/plain": [
       "<Axes: xlabel='target', ylabel='count'>"
      ]
     },
     "execution_count": 5,
     "metadata": {},
     "output_type": "execute_result"
    },
    {
     "data": {
      "image/png": "[encoded data removed]",
      "text/plain": [
       "<Figure size 640x480 with 1 Axes>"
      ]
     },
     "metadata": {},
     "output_type": "display_data"
    }
   ],
   "source": [
    "sns.countplot(x = 'target', data= df_train)"
   ]
  },
  {
   "cell_type": "code",
   "execution_count": 6,
   "id": "5c113fb4",
   "metadata": {},
   "outputs": [
    {
     "data": {
      "text/plain": [
       "0    4342\n",
       "1    3271\n",
       "Name: target, dtype: int64"
      ]
     },
     "execution_count": 6,
     "metadata": {},
     "output_type": "execute_result"
    }
   ],
   "source": [
    "df_train['target'].value_counts()"
   ]
  },
  {
   "cell_type": "markdown",
   "id": "6f4d523d",
   "metadata": {},
   "source": [
    "There are about 4342 negative labels and 3271 positive labels. The negative label is rougly 57% while the positive label is rougly 43% of the whole train dataset. "
   ]
  },
  {
   "cell_type": "code",
   "execution_count": 7,
   "id": "18e56a86",
   "metadata": {},
   "outputs": [
    {
     "data": {
      "text/plain": [
       "id             0\n",
       "keyword       61\n",
       "location    2533\n",
       "text           0\n",
       "target         0\n",
       "dtype: int64"
      ]
     },
     "execution_count": 7,
     "metadata": {},
     "output_type": "execute_result"
    }
   ],
   "source": [
    "df_train.isna().sum()"
   ]
  },
  {
   "cell_type": "code",
   "execution_count": 8,
   "id": "70f3be3e",
   "metadata": {},
   "outputs": [
    {
     "data": {
      "text/plain": [
       "0"
      ]
     },
     "execution_count": 8,
     "metadata": {},
     "output_type": "execute_result"
    }
   ],
   "source": [
    "df_train.duplicated().sum()"
   ]
  },
  {
   "cell_type": "markdown",
   "id": "e9bd4ac0",
   "metadata": {},
   "source": [
    "The keyword and location columns contain NA values. However since our task is to use to classify the text based on NLP, we do not need keyword and location columns values in our training model so there is no need to remove them or replace those NA values. Furthermore, we do not have any duplicated in our train set."
   ]
  },
  {
   "cell_type": "code",
   "execution_count": 9,
   "id": "78f5dd8e",
   "metadata": {},
   "outputs": [
    {
     "data": {
      "text/plain": [
       "0       Our Deeds are the Reason of this #earthquake M...\n",
       "1                  Forest fire near La Ronge Sask. Canada\n",
       "2       All residents asked to 'shelter in place' are ...\n",
       "3       13,000 people receive #wildfires evacuation or...\n",
       "4       Just got sent this photo from Ruby #Alaska as ...\n",
       "                              ...                        \n",
       "7608    Two giant cranes holding a bridge collapse int...\n",
       "7609    @aria_ahrary @TheTawniest The out of control w...\n",
       "7610    M1.94 [01:04 UTC]?5km S of Volcano Hawaii. htt...\n",
       "7611    Police investigating after an e-bike collided ...\n",
       "7612    The Latest: More Homes Razed by Northern Calif...\n",
       "Name: text, Length: 7613, dtype: object"
      ]
     },
     "execution_count": 9,
     "metadata": {},
     "output_type": "execute_result"
    }
   ],
   "source": [
    "df_train['text']"
   ]
  },
  {
   "cell_type": "code",
   "execution_count": 10,
   "id": "1a6318da",
   "metadata": {},
   "outputs": [],
   "source": [
    "df_test = pd.read_csv('data/DisasterTweets/test.csv', encoding ='utf-8')"
   ]
  },
  {
   "cell_type": "code",
   "execution_count": 11,
   "id": "e801e0b0",
   "metadata": {},
   "outputs": [
    {
     "data": {
      "text/plain": [
       "(3263, 4)"
      ]
     },
     "execution_count": 11,
     "metadata": {},
     "output_type": "execute_result"
    }
   ],
   "source": [
    "df_test.shape"
   ]
  },
  {
   "cell_type": "code",
   "execution_count": 12,
   "id": "766521ff",
   "metadata": {},
   "outputs": [
    {
     "data": {
      "text/html": [
       "<div>\n",
       "<style scoped>\n",
       "    .dataframe tbody tr th:only-of-type {\n",
       "        vertical-align: middle;\n",
       "    }\n",
       "\n",
       "    .dataframe tbody tr th {\n",
       "        vertical-align: top;\n",
       "    }\n",
       "\n",
       "    .dataframe thead th {\n",
       "        text-align: right;\n",
       "    }\n",
       "</style>\n",
       "<table border=\"1\" class=\"dataframe\">\n",
       "  <thead>\n",
       "    <tr style=\"text-align: right;\">\n",
       "      <th></th>\n",
       "      <th>id</th>\n",
       "      <th>keyword</th>\n",
       "      <th>location</th>\n",
       "      <th>text</th>\n",
       "    </tr>\n",
       "  </thead>\n",
       "  <tbody>\n",
       "    <tr>\n",
       "      <th>0</th>\n",
       "      <td>0</td>\n",
       "      <td>NaN</td>\n",
       "      <td>NaN</td>\n",
       "      <td>Just happened a terrible car crash</td>\n",
       "    </tr>\n",
       "    <tr>\n",
       "      <th>1</th>\n",
       "      <td>2</td>\n",
       "      <td>NaN</td>\n",
       "      <td>NaN</td>\n",
       "      <td>Heard about #earthquake is different cities, s...</td>\n",
       "    </tr>\n",
       "    <tr>\n",
       "      <th>2</th>\n",
       "      <td>3</td>\n",
       "      <td>NaN</td>\n",
       "      <td>NaN</td>\n",
       "      <td>there is a forest fire at spot pond, geese are...</td>\n",
       "    </tr>\n",
       "    <tr>\n",
       "      <th>3</th>\n",
       "      <td>9</td>\n",
       "      <td>NaN</td>\n",
       "      <td>NaN</td>\n",
       "      <td>Apocalypse lighting. #Spokane #wildfires</td>\n",
       "    </tr>\n",
       "    <tr>\n",
       "      <th>4</th>\n",
       "      <td>11</td>\n",
       "      <td>NaN</td>\n",
       "      <td>NaN</td>\n",
       "      <td>Typhoon Soudelor kills 28 in China and Taiwan</td>\n",
       "    </tr>\n",
       "  </tbody>\n",
       "</table>\n",
       "</div>"
      ],
      "text/plain": [
       "   id keyword location                                               text\n",
       "0   0     NaN      NaN                 Just happened a terrible car crash\n",
       "1   2     NaN      NaN  Heard about #earthquake is different cities, s...\n",
       "2   3     NaN      NaN  there is a forest fire at spot pond, geese are...\n",
       "3   9     NaN      NaN           Apocalypse lighting. #Spokane #wildfires\n",
       "4  11     NaN      NaN      Typhoon Soudelor kills 28 in China and Taiwan"
      ]
     },
     "execution_count": 12,
     "metadata": {},
     "output_type": "execute_result"
    }
   ],
   "source": [
    "df_test.head()"
   ]
  },
  {
   "cell_type": "markdown",
   "id": "355dab7f",
   "metadata": {},
   "source": [
    "The test dataset is similar to the train dataset except that it does not have a target column. There are about 3263 entries to be classified in the test set. "
   ]
  },
  {
   "cell_type": "code",
   "execution_count": 13,
   "id": "787ad379",
   "metadata": {},
   "outputs": [
    {
     "name": "stdout",
     "output_type": "stream",
     "text": [
      "Our Deeds are the Reason of this #earthquake May ALLAH Forgive us all\n",
      "Forest fire near La Ronge Sask. Canada\n",
      "All residents asked to 'shelter in place' are being notified by officers. No other evacuation or shelter in place orders are expected\n",
      "13,000 people receive #wildfires evacuation orders in California \n",
      "Just got sent this photo from Ruby #Alaska as smoke from #wildfires pours into a school \n",
      "#RockyFire Update => California Hwy. 20 closed in both directions due to Lake County fire - #CAfire #wildfires\n",
      "#flood #disaster Heavy rain causes flash flooding of streets in Manitou, Colorado Springs areas\n",
      "I'm on top of the hill and I can see a fire in the woods...\n",
      "There's an emergency evacuation happening now in the building across the street\n",
      "I'm afraid that the tornado is coming to our area...\n"
     ]
    }
   ],
   "source": [
    "for i in range(10):\n",
    "    print(df_train.loc[i,'text'])"
   ]
  },
  {
   "cell_type": "markdown",
   "id": "1e571297",
   "metadata": {},
   "source": [
    "Looking at some samples of the tweets from the train dataset, I can see the texts contain puncuation, HTML markups. So I would have to remove them. I developed a function that uses regular expression to remove those non-letters characters from the text columns."
   ]
  },
  {
   "cell_type": "code",
   "execution_count": 14,
   "id": "6effddb5",
   "metadata": {},
   "outputs": [],
   "source": [
    "def preprocessor(text):\n",
    "    text.strip()\n",
    "    text = re.sub(r'\\b\\w{1,2}\\b', ' ', text.lower())\n",
    "    text = re.sub('[\\W\\d]+', ' ', text)\n",
    "    return text.strip()"
   ]
  },
  {
   "cell_type": "code",
   "execution_count": 15,
   "id": "00810be4",
   "metadata": {},
   "outputs": [
    {
     "name": "stdout",
     "output_type": "stream",
     "text": [
      "our deeds are the reason this earthquake may allah forgive all\n",
      "forest fire near ronge sask canada\n",
      "all residents asked shelter place are being notified officers other evacuation shelter place orders are expected\n",
      "people receive wildfires evacuation orders california\n",
      "just got sent this photo from ruby alaska smoke from wildfires pours into school\n",
      "rockyfire update california hwy closed both directions due lake county fire cafire wildfires\n",
      "flood disaster heavy rain causes flash flooding streets manitou colorado springs areas\n",
      "top the hill and can see fire the woods\n",
      "there emergency evacuation happening now the building across the street\n",
      "afraid that the tornado coming our area\n"
     ]
    }
   ],
   "source": [
    "for i in range(10):\n",
    "    print(preprocessor(df_train.loc[i,'text']))"
   ]
  },
  {
   "cell_type": "markdown",
   "id": "0f13f8c8",
   "metadata": {},
   "source": [
    "The function seems to work well on some example provided above. Let's apply it to the whole text column of the train dataset."
   ]
  },
  {
   "cell_type": "code",
   "execution_count": 16,
   "id": "30e297ac",
   "metadata": {},
   "outputs": [
    {
     "data": {
      "text/plain": [
       "0       our deeds are the reason this earthquake may a...\n",
       "1                      forest fire near ronge sask canada\n",
       "2       all residents asked shelter place are being no...\n",
       "3       people receive wildfires evacuation orders cal...\n",
       "4       just got sent this photo from ruby alaska smok...\n",
       "                              ...                        \n",
       "7608    two giant cranes holding bridge collapse into ...\n",
       "7609    aria_ahrary thetawniest the out control wild f...\n",
       "7610                utc km volcano hawaii http zdtoyd ebj\n",
       "7611    police investigating after bike collided with ...\n",
       "7612    the latest more homes razed northern californi...\n",
       "Name: text, Length: 7613, dtype: object"
      ]
     },
     "execution_count": 16,
     "metadata": {},
     "output_type": "execute_result"
    }
   ],
   "source": [
    "df_train['text'] = df_train['text'].apply(preprocessor)\n",
    "df_train['text']"
   ]
  },
  {
   "cell_type": "markdown",
   "id": "15acad31",
   "metadata": {},
   "source": [
    "Stop-word removal: Stop-words are simply the words that are very common in all sort of texts and probably contain no useful information that can be used. Examples of stop-words are *is, are, and, have, has, like, etc.*\n",
    "We can use the 'stopwords' libary from NLTK library."
   ]
  },
  {
   "cell_type": "code",
   "execution_count": 17,
   "id": "f5cc92ba",
   "metadata": {},
   "outputs": [],
   "source": [
    "def stop_words(text):\n",
    "    stop = stopwords.words('english')\n",
    "    return ' '.join([w for w in text.split() if w not in stop])"
   ]
  },
  {
   "cell_type": "code",
   "execution_count": 18,
   "id": "43004b3b",
   "metadata": {},
   "outputs": [
    {
     "data": {
      "text/plain": [
       "0               deeds reason earthquake may allah forgive\n",
       "1                      forest fire near ronge sask canada\n",
       "2       residents asked shelter place notified officer...\n",
       "3       people receive wildfires evacuation orders cal...\n",
       "4       got sent photo ruby alaska smoke wildfires pou...\n",
       "                              ...                        \n",
       "7608    two giant cranes holding bridge collapse nearb...\n",
       "7609    aria_ahrary thetawniest control wild fires cal...\n",
       "7610                utc km volcano hawaii http zdtoyd ebj\n",
       "7611    police investigating bike collided car little ...\n",
       "7612    latest homes razed northern california wildfir...\n",
       "Name: text, Length: 7613, dtype: object"
      ]
     },
     "execution_count": 18,
     "metadata": {},
     "output_type": "execute_result"
    }
   ],
   "source": [
    "df_train['text'] = df_train['text'].apply(stop_words)\n",
    "df_train['text']"
   ]
  },
  {
   "cell_type": "markdown",
   "id": "7586e594",
   "metadata": {},
   "source": [
    "After successfully remove all stop words, the text now probably contains the useful English words for the model to learn and train. Let's find the most frequent words in the train dataset."
   ]
  },
  {
   "cell_type": "code",
   "execution_count": 19,
   "id": "24e99648",
   "metadata": {},
   "outputs": [],
   "source": [
    "def vocab_count(docs):\n",
    "    vocab = defaultdict(int)\n",
    "    for doc in docs:\n",
    "        for token in doc.split():            \n",
    "            if token not in vocab:\n",
    "                    vocab[token] = 1 \n",
    "            else:\n",
    "                    vocab[token] += 1\n",
    "    return vocab"
   ]
  },
  {
   "cell_type": "code",
   "execution_count": 55,
   "id": "9887dae0",
   "metadata": {},
   "outputs": [
    {
     "name": "stdout",
     "output_type": "stream",
     "text": [
      "http : 4309\n",
      "\n",
      "https : 411\n",
      "\n",
      "like : 348\n",
      "\n",
      "amp : 344\n",
      "\n",
      "fire : 254\n",
      "\n",
      "get : 229\n",
      "\n",
      "new : 226\n",
      "\n",
      "via : 220\n",
      "\n",
      "news : 210\n",
      "\n",
      "people : 200\n",
      "\n"
     ]
    },
    {
     "data": {
      "image/png": "[encoded data removed]",
      "text/plain": [
       "<Figure size 1000x600 with 1 Axes>"
      ]
     },
     "metadata": {},
     "output_type": "display_data"
    }
   ],
   "source": [
    "bag_of_words = vocab_count(df_train['text'])\n",
    "\n",
    "bag_of_words = {word:count for word,count in sorted(bag_of_words.items(), reverse = True, key = lambda item:item[1])}\n",
    "words = list(bag_of_words.keys())\n",
    "counts = list(bag_of_words.values())\n",
    "\n",
    "for i in range(0,10):\n",
    "    print(words[i] +' : '+ str(counts[i]) + '\\n')\n",
    "\n",
    "plt.figure(figsize=(10,6))\n",
    "plt.title('10 most frequent words in the vocabulary')\n",
    "plt.bar(words[0:10],counts[0:10], color ='yellow')\n",
    "plt.savefig('10_most_frequent_word.png')\n",
    "plt.show()"
   ]
  },
  {
   "cell_type": "markdown",
   "id": "e76aef79",
   "metadata": {},
   "source": [
    "The most common word is 'http'. This is definitely not an English word but it might contain useful information such as links to some disaster news for example, and people like to tweet or retweet from other links. Other useful words are fire, news, people. "
   ]
  },
  {
   "cell_type": "code",
   "execution_count": 21,
   "id": "3d077095",
   "metadata": {},
   "outputs": [
    {
     "data": {
      "text/plain": [
       "0                        just happened terrible car crash\n",
       "1       heard about earthquake different cities stay s...\n",
       "2       there forest fire spot pond geese are fleeing ...\n",
       "3                   apocalypse lighting spokane wildfires\n",
       "4                 typhoon soudelor kills china and taiwan\n",
       "                              ...                        \n",
       "3258    earthquake safety los angeles safety fasteners...\n",
       "3259    storm worse than last hurricane city amp other...\n",
       "3260        green line derailment chicago http utbxlcbiuy\n",
       "3261    meg issues hazardous weather outlook hwo http ...\n",
       "3262    cityofcalgary has activated its municipal emer...\n",
       "Name: text, Length: 3263, dtype: object"
      ]
     },
     "execution_count": 21,
     "metadata": {},
     "output_type": "execute_result"
    }
   ],
   "source": [
    "df_test['text'] = df_test['text'].apply(preprocessor)\n",
    "df_test['text']"
   ]
  },
  {
   "cell_type": "code",
   "execution_count": 22,
   "id": "f735c5d3",
   "metadata": {},
   "outputs": [
    {
     "data": {
      "text/plain": [
       "0                             happened terrible car crash\n",
       "1       heard earthquake different cities stay safe ev...\n",
       "2       forest fire spot pond geese fleeing across str...\n",
       "3                   apocalypse lighting spokane wildfires\n",
       "4                     typhoon soudelor kills china taiwan\n",
       "                              ...                        \n",
       "3258    earthquake safety los angeles safety fasteners...\n",
       "3259    storm worse last hurricane city amp others har...\n",
       "3260        green line derailment chicago http utbxlcbiuy\n",
       "3261    meg issues hazardous weather outlook hwo http ...\n",
       "3262    cityofcalgary activated municipal emergency pl...\n",
       "Name: text, Length: 3263, dtype: object"
      ]
     },
     "execution_count": 22,
     "metadata": {},
     "output_type": "execute_result"
    }
   ],
   "source": [
    "df_test['text'] = df_test['text'].apply(stop_words)\n",
    "df_test['text']"
   ]
  },
  {
   "cell_type": "markdown",
   "id": "6ec2b8e8",
   "metadata": {},
   "source": [
    "I also need to clean the text in the test dataset so that later I will have to create a test data from the test dataset for model prediction."
   ]
  },
  {
   "cell_type": "markdown",
   "id": "729e2b44",
   "metadata": {},
   "source": [
    "## Data Preparation\n",
    "To prepare data for input to a Neural Network, I need to encode the text into numeric values. To do this, I will first find the unique words (tokens) in the train dataset. Keras provides a text Tokenizer that can tokenize the text and build a vocabulary. Next, I'm going to map each unique word to a unique integer. Tokernizer class has a function called texts_to_sequence that can convert a text to a sequence of integer based on the internal vocabulary. "
   ]
  },
  {
   "cell_type": "code",
   "execution_count": 23,
   "id": "dead77a0",
   "metadata": {},
   "outputs": [],
   "source": [
    "# Convert text to a list of strings\n",
    "text_list = df_train['text'].tolist()\n",
    "\n",
    "# Tokenize the text and build the vocabulary\n",
    "tokenizer = Tokenizer()\n",
    "tokenizer.fit_on_texts(text_list)\n",
    "\n",
    "# Encode text and labels and pad the sequences\n",
    "max_sequence_length = 32  # Set the maximum sequence length\n",
    "ds_train = df_train['text'].apply(lambda x: tokenizer.texts_to_sequences([x])[0])\n",
    "ds_train = pad_sequences(ds_train, maxlen=max_sequence_length)\n",
    "\n",
    "labels = df_train['target'].values"
   ]
  },
  {
   "cell_type": "code",
   "execution_count": 24,
   "id": "e553ce88",
   "metadata": {},
   "outputs": [],
   "source": [
    "# Create a tf.data.Dataset from train_data and labels\n",
    "train_dataset = tf.data.Dataset.from_tensor_slices((ds_train, labels))"
   ]
  },
  {
   "cell_type": "code",
   "execution_count": 25,
   "id": "406104e9",
   "metadata": {},
   "outputs": [],
   "source": [
    "# Shuffle and batch the dataset\n",
    "train_dataset = train_dataset.shuffle(buffer_size=len(train_dataset), seed=42, reshuffle_each_iteration = False)\n",
    "train_data = train_dataset.take(6000)\n",
    "valid_data = train_dataset.skip(6000)"
   ]
  },
  {
   "cell_type": "code",
   "execution_count": 26,
   "id": "83b8f4c4",
   "metadata": {},
   "outputs": [],
   "source": [
    "batch_size = 32\n",
    "train_data = train_data.batch(batch_size)\n",
    "valid_data = valid_data.batch(batch_size)"
   ]
  },
  {
   "cell_type": "markdown",
   "id": "a36230be",
   "metadata": {},
   "source": [
    "In the above code, I have created a tensor train_dataset that contains the train senquences of texts, and the train labels. Also I shuffled the tensor dataset and took the first 6000 entries for training data, and the rest (1613) for validation data. It's time to build the model."
   ]
  },
  {
   "cell_type": "markdown",
   "id": "d3ad61b2",
   "metadata": {},
   "source": [
    "# Models Training"
   ]
  },
  {
   "cell_type": "markdown",
   "id": "fdef6977",
   "metadata": {},
   "source": [
    "## Bidirectional Long Short Term Memory (Bi LSTM) Model"
   ]
  },
  {
   "cell_type": "markdown",
   "id": "f660b68c",
   "metadata": {},
   "source": [
    "During the data preparation in the previous step, I generated sequences of the same length. The elements of these sequences were integer numbers that corresponded to the indices of unique words. These word indices can be converted into input features in several different ways. One approach is to map each word to a vector of a fixed size with real valued elements. We can use finite-sized vectors to represent an infinite number of real numbers. This is the idea behind embedding. Given the number of unique words, we can select the size of the embedding vectors to be much smaller than the number of unique words to represent the entire vocabulary as input features. You can think of it as a reduction in dimensionality of the feature space to decrease the effect of the curse of dimensionality. Given a set of tokens of size n+2 (n is the size of the token set, plus index 0 is reserved for the padding holder, and n+1 is for the words not present in the token set), an embedding matrix of size (n+2)x embedding_dim will be created where each row of this matrix represents numerical feratures associated with a token. In practice, creating an embedding layer can simply be done using keras.layers.Embedding."
   ]
  },
  {
   "cell_type": "code",
   "execution_count": 27,
   "id": "86f2bb45",
   "metadata": {},
   "outputs": [],
   "source": [
    "vocab_size = len(bag_of_words) + 2\n",
    "embedding_dim = 100\n",
    "bi_lstm_model = Sequential([\n",
    "    Embedding(input_dim=vocab_size, output_dim = embedding_dim, name = 'embed-layer'),\n",
    "    Bidirectional(LSTM(128, dropout=0.3, recurrent_dropout=0.3, name='lstm-layer'),name='bidir-lstm'),\n",
    "    Dropout(0.5),\n",
    "    Dense(256,activation = 'relu'),\n",
    "    Dropout(0.5),\n",
    "    Dense(1,activation = 'sigmoid')\n",
    "])"
   ]
  },
  {
   "cell_type": "markdown",
   "id": "8e77a44b",
   "metadata": {},
   "source": [
    "Since we might have long sequences, I used an LSTM layer to account for long-term effects. In addition, I put the LSTM layer inside a Bidirectional wrapper, which will make the recurrent layers pass through the input sequences from both directions, start to end, as well as the reverse direction. I also used Adam optimizer and binary_crossentropy as the loss function. The summary of Bi LSTM model is below. "
   ]
  },
  {
   "cell_type": "code",
   "execution_count": 28,
   "id": "fce81a83",
   "metadata": {},
   "outputs": [
    {
     "name": "stdout",
     "output_type": "stream",
     "text": [
      "Model: \"sequential\"\n",
      "_________________________________________________________________\n",
      " Layer (type)                Output Shape              Param #   \n",
      "=================================================================\n",
      " embed-layer (Embedding)     (None, None, 100)         2208300   \n",
      "                                                                 \n",
      " bidir-lstm (Bidirectional)  (None, 256)               234496    \n",
      "                                                                 \n",
      " dropout (Dropout)           (None, 256)               0         \n",
      "                                                                 \n",
      " dense (Dense)               (None, 256)               65792     \n",
      "                                                                 \n",
      " dropout_1 (Dropout)         (None, 256)               0         \n",
      "                                                                 \n",
      " dense_1 (Dense)             (None, 1)                 257       \n",
      "                                                                 \n",
      "=================================================================\n",
      "Total params: 2508845 (9.57 MB)\n",
      "Trainable params: 2508845 (9.57 MB)\n",
      "Non-trainable params: 0 (0.00 Byte)\n",
      "_________________________________________________________________\n"
     ]
    }
   ],
   "source": [
    "bi_lstm_model.compile(optimizer='adam', loss = 'binary_crossentropy', metrics =['accuracy'])\n",
    "bi_lstm_model.summary()"
   ]
  },
  {
   "cell_type": "code",
   "execution_count": 29,
   "id": "d70b0d11",
   "metadata": {},
   "outputs": [],
   "source": [
    "# Define the EarlyStopping callback to stop training when the validation loss stops improving\n",
    "early_stopping = EarlyStopping(monitor='val_loss', patience=5, restore_best_weights=True)"
   ]
  },
  {
   "cell_type": "code",
   "execution_count": 30,
   "id": "5a027896",
   "metadata": {},
   "outputs": [],
   "source": [
    "# Create a ModelCheckpoint callback to save the best model\n",
    "checkpoint_callback = tf.keras.callbacks.ModelCheckpoint(\n",
    "    filepath='best_disaster_model.h5',\n",
    "    monitor='val_loss',  \n",
    "    mode='min',              \n",
    "    save_best_only=True,     \n",
    "    save_weights_only=False, \n",
    "    verbose=1\n",
    ")"
   ]
  },
  {
   "cell_type": "markdown",
   "id": "847b4bdc",
   "metadata": {},
   "source": [
    "I created an early stopping callback to stop training in order to avoid overfitting. I also created a checkpoint callback where I saved the best model so I could load from it later. It's time to train the model. Let's set the number of epochs = 10."
   ]
  },
  {
   "cell_type": "code",
   "execution_count": 31,
   "id": "a1769db2",
   "metadata": {},
   "outputs": [
    {
     "name": "stdout",
     "output_type": "stream",
     "text": [
      "Epoch 1/10\n",
      "187/188 [============================>.] - ETA: 0s - loss: 0.5505 - accuracy: 0.7114\n",
      "Epoch 1: val_loss improved from inf to 0.45498, saving model to best_disaster_model.h5\n",
      "188/188 [==============================] - 11s 44ms/step - loss: 0.5500 - accuracy: 0.7118 - val_loss: 0.4550 - val_accuracy: 0.7911\n",
      "Epoch 2/10\n",
      "  3/188 [..............................] - ETA: 7s - loss: 0.4831 - accuracy: 0.7604"
     ]
    },
    {
     "name": "stderr",
     "output_type": "stream",
     "text": [
      "C:\\Users\\Admin\\anaconda3\\Lib\\site-packages\\keras\\src\\engine\\training.py:3000: UserWarning: You are saving your model as an HDF5 file via `model.save()`. This file format is considered legacy. We recommend using instead the native Keras format, e.g. `model.save('my_model.keras')`.\n",
      "  saving_api.save_model(\n"
     ]
    },
    {
     "name": "stdout",
     "output_type": "stream",
     "text": [
      "187/188 [============================>.] - ETA: 0s - loss: 0.2577 - accuracy: 0.8989\n",
      "Epoch 2: val_loss did not improve from 0.45498\n",
      "188/188 [==============================] - 8s 42ms/step - loss: 0.2574 - accuracy: 0.8990 - val_loss: 0.5552 - val_accuracy: 0.7874\n",
      "Epoch 3/10\n",
      "187/188 [============================>.] - ETA: 0s - loss: 0.1163 - accuracy: 0.9621\n",
      "Epoch 3: val_loss did not improve from 0.45498\n",
      "188/188 [==============================] - 8s 42ms/step - loss: 0.1162 - accuracy: 0.9620 - val_loss: 0.6648 - val_accuracy: 0.7644\n",
      "Epoch 4/10\n",
      "187/188 [============================>.] - ETA: 0s - loss: 0.0565 - accuracy: 0.9841\n",
      "Epoch 4: val_loss did not improve from 0.45498\n",
      "188/188 [==============================] - 8s 42ms/step - loss: 0.0564 - accuracy: 0.9842 - val_loss: 0.7849 - val_accuracy: 0.7514\n",
      "Epoch 5/10\n",
      "188/188 [==============================] - ETA: 0s - loss: 0.0325 - accuracy: 0.9910\n",
      "Epoch 5: val_loss did not improve from 0.45498\n",
      "188/188 [==============================] - 8s 43ms/step - loss: 0.0325 - accuracy: 0.9910 - val_loss: 0.8659 - val_accuracy: 0.7595\n",
      "Epoch 6/10\n",
      "188/188 [==============================] - ETA: 0s - loss: 0.0252 - accuracy: 0.9933\n",
      "Epoch 6: val_loss did not improve from 0.45498\n",
      "188/188 [==============================] - 8s 43ms/step - loss: 0.0252 - accuracy: 0.9933 - val_loss: 0.8698 - val_accuracy: 0.7619\n"
     ]
    }
   ],
   "source": [
    "# Fit the model to the data using the generators and the EarlyStopping and ModelCheckpoint callbacks\n",
    "epochs = 10  \n",
    "history = bi_lstm_model.fit(\n",
    "    train_data,\n",
    "    validation_data=valid_data,\n",
    "    epochs=epochs,\n",
    "    callbacks=[early_stopping,checkpoint_callback] \n",
    ")"
   ]
  },
  {
   "cell_type": "markdown",
   "id": "214b76e4",
   "metadata": {},
   "source": [
    "Training is completed after 6 epochs. Let's draw the plots for loss and accuracy."
   ]
  },
  {
   "cell_type": "code",
   "execution_count": 32,
   "id": "3f13c87f",
   "metadata": {},
   "outputs": [
    {
     "data": {
      "image/png": "[encoded data removed]",
      "text/plain": [
       "<Figure size 800x300 with 1 Axes>"
      ]
     },
     "metadata": {},
     "output_type": "display_data"
    }
   ],
   "source": [
    "# Extract the training and validation loss from the history object\n",
    "train_loss = history.history['loss']\n",
    "val_loss = history.history['val_loss']\n",
    "\n",
    "# Create the plot\n",
    "plt.figure(figsize=(8,3))\n",
    "plt.plot(train_loss, label='Training Loss')\n",
    "plt.plot(val_loss, label='Validation Loss')\n",
    "\n",
    "# Add labels and title\n",
    "plt.xlabel('Epoch')\n",
    "plt.ylabel('Loss')\n",
    "plt.title('Training and Validation Loss')\n",
    "plt.legend()\n",
    "\n",
    "# Show the plot\n",
    "plt.show()"
   ]
  },
  {
   "cell_type": "code",
   "execution_count": 33,
   "id": "a8196da0",
   "metadata": {},
   "outputs": [
    {
     "data": {
      "image/png": "[encoded data removed]",
      "text/plain": [
       "<Figure size 640x480 with 1 Axes>"
      ]
     },
     "metadata": {},
     "output_type": "display_data"
    }
   ],
   "source": [
    "# Extract the training and validation loss from the history object\n",
    "train_accuracy = history.history['accuracy']\n",
    "val_accuracy = history.history['val_accuracy']\n",
    "\n",
    "# Create the plot\n",
    "plt.plot(train_accuracy, label='Training Accuracy')\n",
    "plt.plot(val_accuracy, label='Validation Accuracy')\n",
    "\n",
    "# Add labels and title\n",
    "plt.xlabel('Epoch')\n",
    "plt.ylabel('Accuracy')\n",
    "plt.title('Training and Validation Accuracy')\n",
    "plt.legend()\n",
    "\n",
    "# Show the plot\n",
    "plt.show()\n"
   ]
  },
  {
   "cell_type": "code",
   "execution_count": 34,
   "id": "4a37581e",
   "metadata": {},
   "outputs": [
    {
     "name": "stdout",
     "output_type": "stream",
     "text": [
      "51/51 [==============================] - 1s 7ms/step - loss: 0.4550 - accuracy: 0.7911\n",
      "Validation Loss For Best LSTMM Model: 0.45498111844062805\n",
      "Valid Accuracy For Best LSTM Model: 0.7910725474357605\n"
     ]
    }
   ],
   "source": [
    "best_bi_lstm_model = tf.keras.models.load_model('best_disaster_model.h5')\n",
    "\n",
    "valid_loss, valid_accuracy = best_bi_lstm_model.evaluate(valid_data)\n",
    "print(\"Validation Loss For Best LSTM Model:\", valid_loss)\n",
    "print(\"Valid Accuracy For Best LSTM Model:\", valid_accuracy)"
   ]
  },
  {
   "cell_type": "markdown",
   "id": "94233391",
   "metadata": {},
   "source": [
    "I got the best model at the first epoch = 1. I could see the validation loss increased and validation accuracy decreased after the first epoch. Validation accuracy for Bi LSTModel is 0.791 and the validaion loss is about 0.455. Let's do some tuning for the model."
   ]
  },
  {
   "cell_type": "markdown",
   "id": "a5d95e2b",
   "metadata": {},
   "source": [
    "### Hyperparameters Tuning\n",
    "I will unfreeze some layers for fine tuning, and I also adjusted the learning rate from 0.001 to 0.0001. Then I will fit another 5 epochs from the best model for fine tuning."
   ]
  },
  {
   "cell_type": "code",
   "execution_count": 35,
   "id": "15820d60",
   "metadata": {},
   "outputs": [
    {
     "name": "stdout",
     "output_type": "stream",
     "text": [
      "Epoch 1/5\n",
      "187/188 [============================>.] - ETA: 0s - loss: 0.2475 - accuracy: 0.9049\n",
      "Epoch 1: val_loss did not improve from 0.45498\n",
      "188/188 [==============================] - 11s 44ms/step - loss: 0.2479 - accuracy: 0.9047 - val_loss: 0.4965 - val_accuracy: 0.7954\n",
      "Epoch 2/5\n",
      "187/188 [============================>.] - ETA: 0s - loss: 0.2221 - accuracy: 0.9144\n",
      "Epoch 2: val_loss did not improve from 0.45498\n",
      "188/188 [==============================] - 8s 42ms/step - loss: 0.2226 - accuracy: 0.9143 - val_loss: 0.5184 - val_accuracy: 0.7954\n",
      "Epoch 3/5\n",
      "188/188 [==============================] - ETA: 0s - loss: 0.1985 - accuracy: 0.9238\n",
      "Epoch 3: val_loss did not improve from 0.45498\n",
      "188/188 [==============================] - 8s 41ms/step - loss: 0.1985 - accuracy: 0.9238 - val_loss: 0.5382 - val_accuracy: 0.7985\n",
      "Epoch 4/5\n",
      "187/188 [============================>.] - ETA: 0s - loss: 0.1776 - accuracy: 0.9347\n",
      "Epoch 4: val_loss did not improve from 0.45498\n",
      "188/188 [==============================] - 8s 42ms/step - loss: 0.1778 - accuracy: 0.9345 - val_loss: 0.5613 - val_accuracy: 0.7936\n",
      "Epoch 5/5\n",
      "187/188 [============================>.] - ETA: 0s - loss: 0.1518 - accuracy: 0.9459\n",
      "Epoch 5: val_loss did not improve from 0.45498\n",
      "188/188 [==============================] - 8s 41ms/step - loss: 0.1519 - accuracy: 0.9458 - val_loss: 0.5884 - val_accuracy: 0.7886\n"
     ]
    }
   ],
   "source": [
    "# Unfreeze some layers for fine-tuning\n",
    "for layer in best_bi_lstm_model.layers:\n",
    "    layer.trainable = True\n",
    "\n",
    "# Compile the best model again with a lower learning rate for fine-tuning\n",
    "best_bi_lstm_model.compile(optimizer=tf.keras.optimizers.Adam(learning_rate=0.0001),\n",
    "              loss='binary_crossentropy',\n",
    "              metrics=['accuracy'])\n",
    "\n",
    "# Fit the best model to the data again for fine-tuning\n",
    "fine_tune_epochs = 5  \n",
    "history_fine_tune = best_bi_lstm_model.fit(\n",
    "    train_data,\n",
    "    validation_data=valid_data,\n",
    "    epochs=fine_tune_epochs,\n",
    "    callbacks=[checkpoint_callback]\n",
    ")"
   ]
  },
  {
   "cell_type": "code",
   "execution_count": 36,
   "id": "c90425f1",
   "metadata": {},
   "outputs": [
    {
     "name": "stdout",
     "output_type": "stream",
     "text": [
      "51/51 [==============================] - 1s 8ms/step - loss: 0.4550 - accuracy: 0.7911\n",
      "Validation Loss For Best LSTM Model After Tuning: 0.45498111844062805\n",
      "Validation Accuracy For Best LSTM Model After Tuning: 0.7910725474357605\n"
     ]
    }
   ],
   "source": [
    "best_bi_lstm_model = tf.keras.models.load_model('best_disaster_model.h5')\n",
    "\n",
    "valid_loss_list = []\n",
    "valid_accuracy_list = []\n",
    "valid_loss, valid_accuracy = best_bi_lstm_model.evaluate(valid_data)\n",
    "valid_loss_list.append(valid_loss)\n",
    "valid_accuracy_list.append(valid_accuracy)\n",
    "\n",
    "print(\"Validation Loss For Best LSTM Model After Tuning:\", valid_loss)\n",
    "print(\"Validation Accuracy For Best LSTM Model After Tuning:\", valid_accuracy)"
   ]
  },
  {
   "cell_type": "markdown",
   "id": "a5de5ee8",
   "metadata": {},
   "source": [
    "After tuning completed, the validation loss and accuracy did not change because it seems like I got the best model alreay and tuning did not really make the validation loss smaller."
   ]
  },
  {
   "cell_type": "markdown",
   "id": "a46fe3ab",
   "metadata": {},
   "source": [
    "### Test Set Evaluation\n",
    "In order to test our model on the test set, I needed to create a test dataset as same as I did for the train dataset. Using texts_to_sequences function from Keras, I was able to have the test set ready for evaluation."
   ]
  },
  {
   "cell_type": "code",
   "execution_count": 37,
   "id": "9c0a4119",
   "metadata": {},
   "outputs": [],
   "source": [
    "# Convert text to a list of strings\n",
    "text_list_test = df_test['text'].tolist()\n",
    "\n",
    "# Encode text for test data using the same tokenizer as used for training data\n",
    "test_data = df_test['text'].apply(lambda x: tokenizer.texts_to_sequences([x])[0])\n",
    "test_data = pad_sequences(test_data, maxlen=max_sequence_length)\n",
    "\n",
    "# Convert the padded sequences to a TensorFlow Dataset\n",
    "test_data = tf.data.Dataset.from_tensor_slices(test_data)\n",
    "\n",
    "# Batch the test data\n",
    "batch_size = 1\n",
    "test_data = test_data.batch(batch_size)"
   ]
  },
  {
   "cell_type": "code",
   "execution_count": 38,
   "id": "117b86cf",
   "metadata": {},
   "outputs": [
    {
     "name": "stdout",
     "output_type": "stream",
     "text": [
      "3263/3263 [==============================] - 12s 4ms/step\n"
     ]
    }
   ],
   "source": [
    "# Make predictions on the test data\n",
    "test_predictions = best_bi_lstm_model.predict(test_data, verbose =1)"
   ]
  },
  {
   "cell_type": "code",
   "execution_count": 39,
   "id": "316ab554",
   "metadata": {},
   "outputs": [
    {
     "name": "stdout",
     "output_type": "stream",
     "text": [
      "[[0.57789534]\n",
      " [0.5168517 ]\n",
      " [0.96613103]\n",
      " ...\n",
      " [0.7189995 ]\n",
      " [0.76343167]\n",
      " [0.58129025]]\n"
     ]
    }
   ],
   "source": [
    "print(test_predictions)"
   ]
  },
  {
   "cell_type": "markdown",
   "id": "516b85c4",
   "metadata": {},
   "source": [
    "Because the predictions are the probabilities, so I need to covert it to binary labels by using the threshold p =0.5 "
   ]
  },
  {
   "cell_type": "code",
   "execution_count": 40,
   "id": "0badf699",
   "metadata": {},
   "outputs": [],
   "source": [
    "# Convert predictions to binary labels (0 or 1)\n",
    "binary_predictions = [1 if pred >= 0.5 else 0 for pred in test_predictions]"
   ]
  },
  {
   "cell_type": "code",
   "execution_count": 41,
   "id": "48fac6c9",
   "metadata": {},
   "outputs": [],
   "source": [
    "def test_submit(y_pred, filename):\n",
    "    try:\n",
    "        submit_df = df_test\n",
    "        submit_df['target'] = y_pred\n",
    "        submit_df = submit_df.drop(['keyword','location','text'], axis =1)\n",
    "        submit_df.to_csv(filename, index=False)\n",
    "        print('File saved to ',filename)\n",
    "    except:\n",
    "        print('Error trying to create ', filename)"
   ]
  },
  {
   "cell_type": "code",
   "execution_count": 59,
   "id": "4bab3cf2",
   "metadata": {},
   "outputs": [
    {
     "name": "stdout",
     "output_type": "stream",
     "text": [
      "File saved to  disaster_tweets_submission.csv\n",
      "F1 Score for Bi LSTM Model: 0.79528\n"
     ]
    }
   ],
   "source": [
    "test_submit(binary_predictions,'disaster_tweets_submission.csv')\n",
    "print('F1 Score for Bi LSTM Model: 0.79528')"
   ]
  },
  {
   "cell_type": "markdown",
   "id": "7a6b20ee",
   "metadata": {},
   "source": [
    "**After submitting the file on Kagge for evaluation, Kaggle reported the F1 score is 79.53% for the first model.** "
   ]
  },
  {
   "cell_type": "markdown",
   "id": "07aa01ac",
   "metadata": {},
   "source": [
    "## Simple RNN Model\n",
    "Instead of using the LSTM layer, I decided to use two SimpleRNN layers with increasing sizes after the Embedding layer. I also added Dropout layer in between each SimpleRNN layer and before the output layer to decrease the effect of unbalaced data."
   ]
  },
  {
   "cell_type": "code",
   "execution_count": 43,
   "id": "98add195",
   "metadata": {},
   "outputs": [],
   "source": [
    "simple_rnn_model = Sequential()\n",
    "simple_rnn_model.add(Embedding(input_dim=vocab_size, output_dim = embedding_dim, name = 'embed-layer'))\n",
    "simple_rnn_model.add(SimpleRNN(64, return_sequences = True))\n",
    "simple_rnn_model.add(Dropout(0.3))\n",
    "simple_rnn_model.add(SimpleRNN(128))\n",
    "simple_rnn_model.add(Dropout(0.3))\n",
    "simple_rnn_model.add(Dense(256, activation = 'relu'))\n",
    "simple_rnn_model.add(Dropout(0.5))\n",
    "simple_rnn_model.add(Dense(1, activation ='sigmoid'))"
   ]
  },
  {
   "cell_type": "code",
   "execution_count": 44,
   "id": "1829ac29",
   "metadata": {},
   "outputs": [
    {
     "name": "stdout",
     "output_type": "stream",
     "text": [
      "Model: \"sequential_1\"\n",
      "_________________________________________________________________\n",
      " Layer (type)                Output Shape              Param #   \n",
      "=================================================================\n",
      " embed-layer (Embedding)     (None, None, 100)         2208300   \n",
      "                                                                 \n",
      " simple_rnn (SimpleRNN)      (None, None, 64)          10560     \n",
      "                                                                 \n",
      " dropout_2 (Dropout)         (None, None, 64)          0         \n",
      "                                                                 \n",
      " simple_rnn_1 (SimpleRNN)    (None, 128)               24704     \n",
      "                                                                 \n",
      " dropout_3 (Dropout)         (None, 128)               0         \n",
      "                                                                 \n",
      " dense_2 (Dense)             (None, 256)               33024     \n",
      "                                                                 \n",
      " dropout_4 (Dropout)         (None, 256)               0         \n",
      "                                                                 \n",
      " dense_3 (Dense)             (None, 1)                 257       \n",
      "                                                                 \n",
      "=================================================================\n",
      "Total params: 2276845 (8.69 MB)\n",
      "Trainable params: 2276845 (8.69 MB)\n",
      "Non-trainable params: 0 (0.00 Byte)\n",
      "_________________________________________________________________\n"
     ]
    }
   ],
   "source": [
    "simple_rnn_model.compile(optimizer='adam', loss = 'binary_crossentropy', metrics =['accuracy'])\n",
    "simple_rnn_model.summary()"
   ]
  },
  {
   "cell_type": "code",
   "execution_count": 45,
   "id": "0d48750e",
   "metadata": {},
   "outputs": [],
   "source": [
    "# Create a ModelCheckpoint callback to save the best model\n",
    "checkpoint_callback = tf.keras.callbacks.ModelCheckpoint(\n",
    "    filepath='best_rnn_model.h5',\n",
    "    monitor='val_loss',  \n",
    "    mode='min',              \n",
    "    save_best_only=True,     \n",
    "    save_weights_only=False, \n",
    "    verbose=1\n",
    ")"
   ]
  },
  {
   "cell_type": "markdown",
   "id": "41f4297a",
   "metadata": {},
   "source": [
    "The summary of my Simple RNN model is above. I also need another checkpoint callback to save my best model for training. Let's do some training for the second model."
   ]
  },
  {
   "cell_type": "code",
   "execution_count": 46,
   "id": "dd9c502b",
   "metadata": {},
   "outputs": [
    {
     "name": "stdout",
     "output_type": "stream",
     "text": [
      "Epoch 1/10\n",
      "187/188 [============================>.] - ETA: 0s - loss: 0.6154 - accuracy: 0.6536\n",
      "Epoch 1: val_loss improved from inf to 0.50521, saving model to best_rnn_model.h5\n",
      "188/188 [==============================] - 5s 21ms/step - loss: 0.6148 - accuracy: 0.6538 - val_loss: 0.5052 - val_accuracy: 0.7737\n",
      "Epoch 2/10\n",
      "  7/188 [>.............................] - ETA: 3s - loss: 0.4984 - accuracy: 0.7634"
     ]
    },
    {
     "name": "stderr",
     "output_type": "stream",
     "text": [
      "C:\\Users\\Admin\\anaconda3\\Lib\\site-packages\\keras\\src\\engine\\training.py:3000: UserWarning: You are saving your model as an HDF5 file via `model.save()`. This file format is considered legacy. We recommend using instead the native Keras format, e.g. `model.save('my_model.keras')`.\n",
      "  saving_api.save_model(\n"
     ]
    },
    {
     "name": "stdout",
     "output_type": "stream",
     "text": [
      "186/188 [============================>.] - ETA: 0s - loss: 0.2781 - accuracy: 0.8863\n",
      "Epoch 2: val_loss did not improve from 0.50521\n",
      "188/188 [==============================] - 4s 20ms/step - loss: 0.2768 - accuracy: 0.8868 - val_loss: 0.6058 - val_accuracy: 0.7793\n",
      "Epoch 3/10\n",
      "187/188 [============================>.] - ETA: 0s - loss: 0.0887 - accuracy: 0.9703\n",
      "Epoch 3: val_loss did not improve from 0.50521\n",
      "188/188 [==============================] - 4s 20ms/step - loss: 0.0885 - accuracy: 0.9703 - val_loss: 0.7726 - val_accuracy: 0.7409\n",
      "Epoch 4/10\n",
      "187/188 [============================>.] - ETA: 0s - loss: 0.0472 - accuracy: 0.9866\n",
      "Epoch 4: val_loss did not improve from 0.50521\n",
      "188/188 [==============================] - 4s 19ms/step - loss: 0.0472 - accuracy: 0.9867 - val_loss: 1.0796 - val_accuracy: 0.6900\n",
      "Epoch 5/10\n",
      "187/188 [============================>.] - ETA: 0s - loss: 0.0294 - accuracy: 0.9910\n",
      "Epoch 5: val_loss did not improve from 0.50521\n",
      "188/188 [==============================] - 4s 19ms/step - loss: 0.0293 - accuracy: 0.9910 - val_loss: 1.1152 - val_accuracy: 0.6813\n",
      "Epoch 6/10\n",
      "187/188 [============================>.] - ETA: 0s - loss: 0.0265 - accuracy: 0.9913\n",
      "Epoch 6: val_loss did not improve from 0.50521\n",
      "188/188 [==============================] - 4s 20ms/step - loss: 0.0264 - accuracy: 0.9913 - val_loss: 1.1727 - val_accuracy: 0.6869\n"
     ]
    }
   ],
   "source": [
    "# Fit the model to the data using the generators and the EarlyStopping and ModelCheckpoint callbacks\n",
    "epochs = 10  \n",
    "history = simple_rnn_model.fit(\n",
    "    train_data,\n",
    "    validation_data=valid_data,\n",
    "    epochs=epochs,\n",
    "    callbacks=[early_stopping,checkpoint_callback] \n",
    ")"
   ]
  },
  {
   "cell_type": "markdown",
   "id": "c7a4175a",
   "metadata": {},
   "source": [
    "Training is completed after 6 epochs. Let's take a look at the plots for loss and accuracy."
   ]
  },
  {
   "cell_type": "code",
   "execution_count": 56,
   "id": "1e9b035b",
   "metadata": {},
   "outputs": [
    {
     "data": {
      "image/png": "[encoded data removed]",
      "text/plain": [
       "<Figure size 800x300 with 1 Axes>"
      ]
     },
     "metadata": {},
     "output_type": "display_data"
    }
   ],
   "source": [
    "# Extract the training and validation loss from the history object\n",
    "train_loss = history.history['loss']\n",
    "val_loss = history.history['val_loss']\n",
    "\n",
    "# Create the plot\n",
    "plt.figure(figsize=(8,3))\n",
    "plt.plot(train_loss, label='Training Loss')\n",
    "plt.plot(val_loss, label='Validation Loss')\n",
    "\n",
    "# Add labels and title\n",
    "plt.xlabel('Epoch')\n",
    "plt.ylabel('Loss')\n",
    "plt.title('Training and Validation Loss')\n",
    "plt.legend()\n",
    "\n",
    "# Show the plot\n",
    "plt.show()"
   ]
  },
  {
   "cell_type": "code",
   "execution_count": 57,
   "id": "5c45df6f",
   "metadata": {},
   "outputs": [
    {
     "data": {
      "image/png": "[encoded data removed]",
      "text/plain": [
       "<Figure size 640x480 with 1 Axes>"
      ]
     },
     "metadata": {},
     "output_type": "display_data"
    }
   ],
   "source": [
    "# Extract the training and validation loss from the history object\n",
    "train_accuracy = history.history['accuracy']\n",
    "val_accuracy = history.history['val_accuracy']\n",
    "\n",
    "# Create the plot\n",
    "plt.plot(train_accuracy, label='Training Accuracy')\n",
    "plt.plot(val_accuracy, label='Validation Accuracy')\n",
    "\n",
    "# Add labels and title\n",
    "plt.xlabel('Epoch')\n",
    "plt.ylabel('Accuracy')\n",
    "plt.title('Training and Validation Accuracy')\n",
    "plt.legend()\n",
    "\n",
    "# Show the plot\n",
    "plt.show()"
   ]
  },
  {
   "cell_type": "code",
   "execution_count": 47,
   "id": "6c66c56f",
   "metadata": {},
   "outputs": [
    {
     "name": "stdout",
     "output_type": "stream",
     "text": [
      "51/51 [==============================] - 0s 3ms/step - loss: 0.5052 - accuracy: 0.7737\n",
      "Validation Loss For Best Simple RNN Model: 0.5052093863487244\n",
      "Validation Accuracy For Best Simple RNN Model: 0.7737135887145996\n"
     ]
    }
   ],
   "source": [
    "best_rnn_model = tf.keras.models.load_model('best_rnn_model.h5')\n",
    "\n",
    "valid_loss, valid_accuracy = best_rnn_model.evaluate(valid_data)\n",
    "print(\"Validation Loss For Best Simple RNN Model:\", valid_loss)\n",
    "print(\"Validation Accuracy For Best Simple RNN Model:\", valid_accuracy)"
   ]
  },
  {
   "cell_type": "markdown",
   "id": "42f27eda",
   "metadata": {},
   "source": [
    "I got the best model at the first epoch = 1. I could see the validation loss increased and validation accuracy decreased after the first epoch. Validation accuracy for Simple RNN Model is 0.774 and the validaion loss is about 0.505. Let's do some tuning for the model."
   ]
  },
  {
   "cell_type": "markdown",
   "id": "636e6816",
   "metadata": {},
   "source": [
    "### Hyperparameters Tuning\n",
    "I will unfreeze some layers for fine tuning, and I also adjusted the learning rate from 0.001 to 0.0001. Then I will fit another 5 epochs from the best model for fine tuning."
   ]
  },
  {
   "cell_type": "code",
   "execution_count": 48,
   "id": "698baebf",
   "metadata": {},
   "outputs": [
    {
     "name": "stdout",
     "output_type": "stream",
     "text": [
      "Epoch 1/5\n",
      "187/188 [============================>.] - ETA: 0s - loss: 0.2794 - accuracy: 0.8929\n",
      "Epoch 1: val_loss did not improve from 0.50521\n",
      "188/188 [==============================] - 5s 20ms/step - loss: 0.2792 - accuracy: 0.8930 - val_loss: 0.5449 - val_accuracy: 0.7762\n",
      "Epoch 2/5\n",
      "187/188 [============================>.] - ETA: 0s - loss: 0.2242 - accuracy: 0.9144\n",
      "Epoch 2: val_loss did not improve from 0.50521\n",
      "188/188 [==============================] - 4s 19ms/step - loss: 0.2239 - accuracy: 0.9147 - val_loss: 0.5906 - val_accuracy: 0.7644\n",
      "Epoch 3/5\n",
      "187/188 [============================>.] - ETA: 0s - loss: 0.1590 - accuracy: 0.9410\n",
      "Epoch 3: val_loss did not improve from 0.50521\n",
      "188/188 [==============================] - 4s 19ms/step - loss: 0.1588 - accuracy: 0.9412 - val_loss: 0.6601 - val_accuracy: 0.7508\n",
      "Epoch 4/5\n",
      "188/188 [==============================] - ETA: 0s - loss: 0.1017 - accuracy: 0.9620\n",
      "Epoch 4: val_loss did not improve from 0.50521\n",
      "188/188 [==============================] - 4s 20ms/step - loss: 0.1017 - accuracy: 0.9620 - val_loss: 0.7591 - val_accuracy: 0.7347\n",
      "Epoch 5/5\n",
      "187/188 [============================>.] - ETA: 0s - loss: 0.0682 - accuracy: 0.9759\n",
      "Epoch 5: val_loss did not improve from 0.50521\n",
      "188/188 [==============================] - 4s 19ms/step - loss: 0.0681 - accuracy: 0.9760 - val_loss: 0.8346 - val_accuracy: 0.7266\n"
     ]
    }
   ],
   "source": [
    "# Unfreeze some layers for fine-tuning\n",
    "for layer in best_rnn_model.layers:\n",
    "    layer.trainable = True\n",
    "\n",
    "# Compile the best model again with a lower learning rate for fine-tuning\n",
    "best_rnn_model.compile(optimizer=tf.keras.optimizers.Adam(learning_rate=0.0001),\n",
    "              loss='binary_crossentropy',\n",
    "              metrics=['accuracy'])\n",
    "\n",
    "# Fit the best model to the data again for fine-tuning\n",
    "fine_tune_epochs = 5  \n",
    "history_fine_tune = best_rnn_model.fit(\n",
    "    train_data,\n",
    "    validation_data=valid_data,\n",
    "    epochs=fine_tune_epochs,\n",
    "    callbacks=[checkpoint_callback]\n",
    ")"
   ]
  },
  {
   "cell_type": "code",
   "execution_count": 49,
   "id": "fe051b6d",
   "metadata": {},
   "outputs": [
    {
     "name": "stdout",
     "output_type": "stream",
     "text": [
      "51/51 [==============================] - 0s 2ms/step - loss: 0.5052 - accuracy: 0.7737\n",
      "Validation Loss For Best Simple Model After Tuning: 0.5052093863487244\n",
      "Validation Accuracy For Best Simple Model After Tuning: 0.7737135887145996\n"
     ]
    }
   ],
   "source": [
    "best_rnn_model = tf.keras.models.load_model('best_rnn_model.h5')\n",
    "\n",
    "valid_loss, valid_accuracy = best_rnn_model.evaluate(valid_data)\n",
    "valid_loss_list.append(valid_loss)\n",
    "valid_accuracy_list.append(valid_accuracy)\n",
    "\n",
    "print(\"Validation Loss For Best Simple Model After Tuning:\", valid_loss)\n",
    "print(\"Validation Accuracy For Best Simple Model After Tuning:\", valid_accuracy)"
   ]
  },
  {
   "cell_type": "markdown",
   "id": "ecc38aa4",
   "metadata": {},
   "source": [
    "After tuning completed, the validation loss and accuracy did not change because it seems like I got the best second model alreay, and tuning did not really make the validation loss smaller. It's time to make some predictions."
   ]
  },
  {
   "cell_type": "markdown",
   "id": "b2721891",
   "metadata": {},
   "source": [
    "### Test Set Evaluation"
   ]
  },
  {
   "cell_type": "code",
   "execution_count": 50,
   "id": "692f2d6b",
   "metadata": {},
   "outputs": [
    {
     "name": "stdout",
     "output_type": "stream",
     "text": [
      "3263/3263 [==============================] - 5s 1ms/step\n",
      "[[0.25781274]\n",
      " [0.487879  ]\n",
      " [0.9903128 ]\n",
      " ...\n",
      " [0.38670793]\n",
      " [0.9724892 ]\n",
      " [0.48764813]]\n"
     ]
    }
   ],
   "source": [
    "# Make predictions on the test data\n",
    "test_predictions = best_rnn_model.predict(test_data, verbose =1)\n",
    "\n",
    "# Print the predicted binary labels\n",
    "print(test_predictions)"
   ]
  },
  {
   "cell_type": "markdown",
   "id": "000c990c",
   "metadata": {},
   "source": [
    "Because the predictions are the probabilities, so I need to covert it to binary labels by using the threshold p =0.5 "
   ]
  },
  {
   "cell_type": "code",
   "execution_count": 51,
   "id": "7172ed1a",
   "metadata": {},
   "outputs": [],
   "source": [
    "# Convert predictions to binary labels (0 or 1)\n",
    "binary_predictions = [1 if pred >= 0.5 else 0 for pred in test_predictions]"
   ]
  },
  {
   "cell_type": "code",
   "execution_count": 58,
   "id": "d7d99f43",
   "metadata": {},
   "outputs": [
    {
     "name": "stdout",
     "output_type": "stream",
     "text": [
      "File saved to  disaster_tweets_submission.csv\n",
      "F1 Score for Simple RNN Model: 0.77842\n"
     ]
    }
   ],
   "source": [
    "test_submit(binary_predictions,'disaster_tweets_submission.csv')\n",
    "print('F1 Score for Simple RNN Model: 0.77842')"
   ]
  },
  {
   "cell_type": "markdown",
   "id": "f290b837",
   "metadata": {},
   "source": [
    "**After submitting the file on Kagge for evaluation, Kaggle reported the test accuracy is 77.84% for the second model.** "
   ]
  },
  {
   "cell_type": "markdown",
   "id": "e5d7331e",
   "metadata": {},
   "source": [
    "# Result, Analysis and Discussion "
   ]
  },
  {
   "cell_type": "code",
   "execution_count": 60,
   "id": "381897b0",
   "metadata": {},
   "outputs": [
    {
     "name": "stdout",
     "output_type": "stream",
     "text": [
      "Model Results Comparision Table\n"
     ]
    },
    {
     "data": {
      "text/html": [
       "<div>\n",
       "<style scoped>\n",
       "    .dataframe tbody tr th:only-of-type {\n",
       "        vertical-align: middle;\n",
       "    }\n",
       "\n",
       "    .dataframe tbody tr th {\n",
       "        vertical-align: top;\n",
       "    }\n",
       "\n",
       "    .dataframe thead th {\n",
       "        text-align: right;\n",
       "    }\n",
       "</style>\n",
       "<table border=\"1\" class=\"dataframe\">\n",
       "  <thead>\n",
       "    <tr style=\"text-align: right;\">\n",
       "      <th></th>\n",
       "      <th>Validation Accuracy</th>\n",
       "      <th>Validation Loss</th>\n",
       "      <th>F1 Score</th>\n",
       "    </tr>\n",
       "  </thead>\n",
       "  <tbody>\n",
       "    <tr>\n",
       "      <th>Bi LSTM</th>\n",
       "      <td>0.791073</td>\n",
       "      <td>0.454981</td>\n",
       "      <td>0.79528</td>\n",
       "    </tr>\n",
       "    <tr>\n",
       "      <th>Simple RNN</th>\n",
       "      <td>0.773714</td>\n",
       "      <td>0.505209</td>\n",
       "      <td>0.77842</td>\n",
       "    </tr>\n",
       "  </tbody>\n",
       "</table>\n",
       "</div>"
      ],
      "text/plain": [
       "            Validation Accuracy  Validation Loss  F1 Score\n",
       "Bi LSTM                0.791073         0.454981   0.79528\n",
       "Simple RNN             0.773714         0.505209   0.77842"
      ]
     },
     "execution_count": 60,
     "metadata": {},
     "output_type": "execute_result"
    }
   ],
   "source": [
    "f1_score_list = [0.79528,0.77842]\n",
    "data = {'Validation Accuracy': valid_accuracy_list, 'Validation Loss': valid_loss_list, 'F1 Score':test_accuracy_list}\n",
    "result_df = pd.DataFrame(data)\n",
    "result_df.index = ['Bi LSTM', 'Simple RNN']\n",
    "print('Model Results Comparision Table')\n",
    "result_df"
   ]
  },
  {
   "cell_type": "markdown",
   "id": "4b14e779",
   "metadata": {},
   "source": [
    "***The table shows that a  neural network such as a Simple RNN model has an F1 score of 77.84% on the test set. Meanwhile, a more complexed model like Bi LSTM has an F1 score 79.53% on the test set. This shows a simple RNN model underperforms compared to Bi LSTM model. In overall, our F1 scores are acceptable but not high, or considered as very good. But in order to achieve an almost perfect score on F1 (like 0.98 to 1), maybe we might need a lot more training data. This is probably a setback compared to other supervised learning methods. However, considered that our neural nework works just learnt to classify based on the sequences of integer numbers that represent words in such a small dataset, the result is still reasonably acceptable, though it is not the state-of-the-art model for NLP sentiment analysis.*** "
   ]
  }
 ],
 "metadata": {
  "kernelspec": {
   "display_name": "Python 3 (ipykernel)",
   "language": "python",
   "name": "python3"
  },
  "language_info": {
   "codemirror_mode": {
    "name": "ipython",
    "version": 3
   },
   "file_extension": ".py",
   "mimetype": "text/x-python",
   "name": "python",
   "nbconvert_exporter": "python",
   "pygments_lexer": "ipython3",
   "version": "3.11.3"
  }
 },
 "nbformat": 4,
 "nbformat_minor": 5
}
